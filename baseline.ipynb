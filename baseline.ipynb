{
 "cells": [
  {
   "cell_type": "code",
   "execution_count": null,
   "id": "b24b84ef",
   "metadata": {},
   "outputs": [],
   "source": [
    "import os\n",
    "import zipfile\n",
    "# 解压测试集图片\n",
    "zip_path = \"./input/test_img_data.zip\"\n",
    "extract_dir = \"./test_images\"\n",
    "os.makedirs(extract_dir, exist_ok=True)\n",
    "\n",
    "with zipfile.ZipFile(zip_path, 'r') as zip_ref:\n",
    "    zip_ref.extractall(extract_dir)\n",
    "\n",
    "print(f\"已解压图片到 {extract_dir}\")"
   ]
  },
  {
   "cell_type": "markdown",
   "id": "2a3905f5",
   "metadata": {},
   "source": [
    "### Stage 1：OCR"
   ]
  },
  {
   "cell_type": "code",
   "execution_count": null,
   "id": "4295a1b4",
   "metadata": {
    "ExecuteTime": {
     "end_time": "2025-04-28T11:02:03.592830Z",
     "start_time": "2025-04-28T11:02:00.085058Z"
    }
   },
   "outputs": [],
   "source": [
    "#注意：安装命令运行结束后需重启内核才会更新\n",
    "# 安装 paddlepaddle和paddleocr用于识别图片文字\n",
    "!# CPU only\n",
    "!python3 -m pip install paddlepaddle==2.5.2 -i https://pypi.tuna.tsinghua.edu.cn/simple\n",
    "!pip install --user -i https://pypi.tuna.tsinghua.edu.cn/simple paddleocr\n",
    "!pip uninstall -y numpy\n",
    "!pip install --user -i https://pypi.tuna.tsinghua.edu.cn/simple numpy==1.26.4\n",
    "!pip uninstall -y paddleocr\n",
    "!pip install --user paddleocr==2.9.0 -i https://pypi.tuna.tsinghua.edu.cn/simple"
   ]
  },
  {
   "cell_type": "code",
   "execution_count": null,
   "id": "e84d1ae6",
   "metadata": {
    "ExecuteTime": {
     "end_time": "2025-04-28T11:08:54.568631Z",
     "start_time": "2025-04-28T11:02:28.483759Z"
    }
   },
   "outputs": [],
   "source": [
    "import os\n",
    "from paddleocr import PaddleOCR\n",
    "import json\n",
    "\n",
    "# 初始化 OCR 引擎\n",
    "ocr = PaddleOCR(use_angle_cls=True, lang='ch')\n",
    "\n",
    "# 设置本地图片路径\n",
    "image_path = \"./input/train_img_data/2597.jpg\"  # ← 替换为你的图片路径\n",
    "\n",
    "# 检查图片是否存在\n",
    "if not os.path.exists(image_path):\n",
    "    print(f\"图片不存在: {image_path}\")\n",
    "else:\n",
    "    # 执行 OCR\n",
    "    result = ocr.ocr(image_path, cls=True)\n",
    "\n",
    "    # 仅保存原始 result 到 JSON 文件\n",
    "    output_path = \"raw_ocr_result.json\"\n",
    "    with open(output_path, 'w', encoding='utf-8') as f:\n",
    "        json.dump(result, f, ensure_ascii=False, indent=2)\n",
    "\n",
    "    print(f\"原始 OCR 结果已保存至 {output_path}\")"
   ]
  },
  {
   "cell_type": "markdown",
   "id": "e2c0a981",
   "metadata": {},
   "source": [
    "### Stage 2：Grammatical Error Correction(GEC)"
   ]
  },
  {
   "cell_type": "code",
   "execution_count": null,
   "id": "6d3a5478",
   "metadata": {
    "ExecuteTime": {
     "end_time": "2025-04-28T11:15:08.907582Z",
     "start_time": "2025-04-28T11:13:50.299934Z"
    }
   },
   "outputs": [],
   "source": [
    "#注意：安装命令运行结束后需重启内核才会更新\n",
    "# 为避免依赖冲突，卸载 OCR 相关依赖\n",
    "#!pip uninstall -y paddlex\n",
    "#!pip install --user paddlex==2.1.0 -i https://pypi.tuna.tsinghua.edu.cn/simple\n",
    "\n",
    "#!pip uninstall -y paddleocr\n",
    "#!pip install --user paddleocr==2.9.0 -i https://pypi.tuna.tsinghua.edu.cn/simple\n",
    "# 安装 pycorrector 和 transformers（纠错模型所需）\n",
    "#!pip install --user -U -i https://pypi.tuna.tsinghua.edu.cn/simple pycorrector\n",
    "#!pip install --user transformers==4.28.1 -i https://pypi.tuna.tsinghua.edu.cn/simple\n",
    "#!pip install --user kenlm -i https://pypi.tuna.tsinghua.edu.cn/simple"
   ]
  },
  {
   "cell_type": "code",
   "execution_count": null,
   "id": "80872621",
   "metadata": {
    "ExecuteTime": {
     "end_time": "2025-04-28T11:16:48.599068Z",
     "start_time": "2025-04-28T11:16:47.378614Z"
    }
   },
   "outputs": [],
   "source": [
    "import json\n",
    "from pycorrector import Corrector\n",
    "\n",
    "# 载入pycorrector 模型\n",
    "model = Corrector(language_model_path='./models/people2014corpus_chars.klm')\n",
    "\n",
    "# 加载 OCR 后的数据\n",
    "with open(\"test.json\", \"r\", encoding=\"utf-8\") as f:\n",
    "    data = json.load(f)\n",
    "\n",
    "# 推理\n",
    "results = []\n",
    "for i, item in enumerate(data):\n",
    "    src = item[\"source_text\"]\n",
    "    corrected_res = model.correct(src)\n",
    "    corrected_text = corrected_res['target']\n",
    "\n",
    "    new_item = dict(item)\n",
    "    new_item[\"predict_text\"] = corrected_text\n",
    "\n",
    "    results.append(new_item)\n",
    "\n",
    "    if i % 10 == 0:\n",
    "        print(f\"\\n第 {i+1} 条样本纠错结果：\")\n",
    "        print(\"原文：\", src[:100])\n",
    "        print(\"纠错：\", corrected_text[:100])\n",
    "\n",
    "\n",
    "# 保存最终预测结果\n",
    "with open(\"./output/predict.json\", \"w\", encoding=\"utf-8\") as f:\n",
    "    json.dump(results, f, ensure_ascii=False, indent=2)\n",
    "\n",
    "print(\"纠错完成，结果已保存为 ./output/predict.json\")"
   ]
  },
  {
   "cell_type": "code",
   "execution_count": 1,
   "id": "68a83e12",
   "metadata": {},
   "outputs": [
    {
     "name": "stdout",
     "output_type": "stream",
     "text": [
      "  adding: predict.json (deflated 86%)\n"
     ]
    }
   ],
   "source": [
    "# 将预测结果压缩后再提交\n",
    "import os\n",
    "path=os.getcwd()\n",
    "newpath=path+\"/output/\"\n",
    "os.chdir(newpath)\n",
    "os.system('zip prediction.zip predict.json')\n",
    "os.chdir(path)"
   ]
  },
  {
   "cell_type": "code",
   "execution_count": null,
   "id": "dd489150",
   "metadata": {},
   "outputs": [],
   "source": [
    "!pip uninstall -y paddlex\n",
    "!pip install --user paddlex==2.1.0 -i https://pypi.tuna.tsinghua.edu.cn/simple\n",
    "\n",
    "!pip uninstall -y paddleocr\n",
    "!pip install --user paddleocr==2.9.0 -i https://pypi.tuna.tsinghua.edu.cn/simple"
   ]
  },
  {
   "cell_type": "code",
   "execution_count": null,
   "id": "7f54badd",
   "metadata": {},
   "outputs": [],
   "source": [
    "import json\n",
    "\n",
    "def process_recognition_result(res_file, output_file):\n",
    "    # 读取OCR识别结果\n",
    "    with open(res_file, 'r', encoding='utf-8') as f:\n",
    "        data = json.load(f)\n",
    "\n",
    "    source_text = ''.join(data['rec_texts'])  # 合并所有文本行\n",
    "    target_text = source_text  # 如果需要校正可以替换为目标文本\n",
    "\n",
    "    # 用于存储所有字符的bounding boxes\n",
    "    char_bounding_boxes = []\n",
    "\n",
    "    for text_line, box in zip(data['rec_texts'], data['rec_boxes']):\n",
    "        num_chars = len(text_line)\n",
    "        if num_chars == 0:\n",
    "            continue\n",
    "\n",
    "        x1, y1, x2, y2 = box\n",
    "        width = (x2 - x1) / num_chars  # 每个字符的平均宽度\n",
    "\n",
    "        # 分配每个字符的bounding box\n",
    "        for i in range(num_chars):\n",
    "            char_box = {\n",
    "                \"start_x\": int(x1 + i * width),\n",
    "                \"end_x\": int(x1 + (i + 1) * width),\n",
    "                \"start_y\": y1,\n",
    "                \"end_y\": y2\n",
    "            }\n",
    "            char_bounding_boxes.append(char_box)\n",
    "\n",
    "    # 构造输出JSON对象\n",
    "    result = {\n",
    "        \"fk_homework_id\": 2597,\n",
    "        \"path\": \"2597.jpg\",\n",
    "        \"source_text\": source_text,\n",
    "        \"target_text\": target_text,\n",
    "        \"bounding_box_list\": char_bounding_boxes\n",
    "    }\n",
    "\n",
    "    # 写入输出文件\n",
    "    with open(output_file, 'w', encoding='utf-8') as f:\n",
    "        json.dump([result], f, ensure_ascii=False, indent=2)\n",
    "\n",
    "# 执行程序\n",
    "process_recognition_result('./output/2597_res.json', 'test.json')"
   ]
  },
  {
   "cell_type": "code",
   "execution_count": 1,
   "id": "ece670ea",
   "metadata": {},
   "outputs": [
    {
     "name": "stdout",
     "output_type": "stream",
     "text": [
      "  adding: predict.json (deflated 85%)\n"
     ]
    }
   ],
   "source": [
    "# 将预测结果压缩后再提交\n",
    "import os\n",
    "path=os.getcwd()\n",
    "newpath=path+\"/output/\"\n",
    "os.chdir(newpath)\n",
    "os.system('zip prediction.zip predict.json')\n",
    "os.chdir(path)"
   ]
  },
  {
   "cell_type": "markdown",
   "id": "c1b6ed08",
   "metadata": {},
   "source": []
  },
  {
   "cell_type": "code",
   "execution_count": null,
   "id": "e8beb66f",
   "metadata": {},
   "outputs": [],
   "source": []
  }
 ],
 "metadata": {
  "kernelspec": {
   "display_name": "Python 3",
   "language": "python",
   "name": "python3"
  },
  "language_info": {
   "codemirror_mode": {
    "name": "ipython",
    "version": 3
   },
   "file_extension": ".py",
   "mimetype": "text/x-python",
   "name": "python",
   "nbconvert_exporter": "python",
   "pygments_lexer": "ipython3",
   "version": "3.11.11"
  }
 },
 "nbformat": 4,
 "nbformat_minor": 5
}
